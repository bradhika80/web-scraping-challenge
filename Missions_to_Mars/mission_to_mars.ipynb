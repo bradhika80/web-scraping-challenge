{
 "cells": [
  {
   "cell_type": "code",
   "execution_count": 72,
   "metadata": {},
   "outputs": [],
   "source": [
    "from splinter import Browser\n",
    "from bs4 import BeautifulSoup\n",
    "import requests\n",
    "import pymongo\n",
    "from selenium import webdriver\n",
    "from pprint import pprint\n",
    "import pandas as pd"
   ]
  },
  {
   "cell_type": "code",
   "execution_count": 73,
   "metadata": {},
   "outputs": [],
   "source": [
    "# Setup configuration variables to enable Splinter to interact with browser\n",
    "executable_path = {'executable_path': 'chromedriver.exe'}\n",
    "browser = Browser('chrome', **executable_path, headless=False)"
   ]
  },
  {
   "cell_type": "code",
   "execution_count": 46,
   "metadata": {},
   "outputs": [],
   "source": []
  },
  {
   "cell_type": "code",
   "execution_count": 74,
   "metadata": {},
   "outputs": [],
   "source": [
    "news_url =\"https://mars.nasa.gov/news/\"\n",
    "browser.visit(news_url)\n",
    "news_html = browser.html\n",
    "news_soup = BeautifulSoup(news_html, \"html.parser\")\n",
    "#pprint (news_soup)"
   ]
  },
  {
   "cell_type": "code",
   "execution_count": 75,
   "metadata": {},
   "outputs": [],
   "source": [
    "# get the div with grid of news articles\n",
    "gridList = news_soup.find('div', class_='react_grid_list grid_list_container')\n",
    "\n",
    "# get the first title\n",
    "try :\n",
    "    news_title = gridList.find('div', class_='content_title').text\n",
    "    pprint(news_title)\n",
    "except :\n",
    "    news_title = None\n",
    "\n",
    "# get the first title description\n",
    "try :\n",
    "    news_p = gridList.find('div', class_='rollover_description_inner').text\n",
    "    pprint(news_p)\n",
    "except :\n",
    "    news_p = None\n"
   ]
  },
  {
   "cell_type": "code",
   "execution_count": 76,
   "metadata": {},
   "outputs": [],
   "source": [
    "jpl_url = 'https://www.jpl.nasa.gov/spaceimages'\n",
    "browser.visit(jpl_url)\n",
    "image_html = browser.html\n",
    "image_soup = BeautifulSoup(image_html,\"html.parser\")\n",
    "#pprint(image_soup)"
   ]
  },
  {
   "cell_type": "code",
   "execution_count": 77,
   "metadata": {},
   "outputs": [
    {
     "name": "stdout",
     "output_type": "stream",
     "text": [
      "'https://www.jpl.nasa.gov/spaceimages/images/mediumsize/PIA16837_ip.jpg'\n"
     ]
    }
   ],
   "source": [
    "# get the carousel_item\n",
    "\n",
    "carousel_item = image_soup.find(\"article\", \"carousel_item\")\n",
    "#pprint (carousel_item)\n",
    "\n",
    "try :\n",
    "    featured_image_title, = image_soup.find(\"h1\", \"media_feature_title\")\n",
    "except :\n",
    "    featured_image_title = None\n",
    "\n",
    "try :\n",
    "    #get the footer a element of the article\n",
    "    footer_a_item = carousel_item.find(\"a\", \"button fancybox\")\n",
    "    #pprint(f\"Atag : {footer_a_item.attrs}\")\n",
    "    \n",
    "    # get the imageurl from \n",
    "    img_url = footer_a_item['data-fancybox-href']\n",
    "    \n",
    "    substring = \"/spaceimages\"\n",
    "    featured_image_url = jpl_url + img_url.replace(substring, '')\n",
    "    pprint (featured_image_url)\n",
    "    \n",
    "except Exception as ex:\n",
    "    pprint(ex)\n",
    "    featured_image_url = None\n",
    "\n",
    " \n"
   ]
  },
  {
   "cell_type": "code",
   "execution_count": 78,
   "metadata": {},
   "outputs": [],
   "source": [
    "space_url = 'https://space-facts.com/mars/'\n",
    "browser.visit(space_url)\n",
    "space_html = browser.html\n",
    "space_soup = BeautifulSoup(space_html,\"html.parser\")\n",
    "##pprint(space_soup)"
   ]
  },
  {
   "cell_type": "code",
   "execution_count": 79,
   "metadata": {},
   "outputs": [],
   "source": [
    "#reference :- https://pythonprogramminglanguage.com/web-scraping-with-pandas-and-beautifulsoup/\n",
    "# get the table element from the page. \n",
    "table_item  = space_soup.find(\"table\", \"tablepress tablepress-id-p-mars\")\n",
    "\n",
    "df = pd.read_html(str(table_item))\n",
    "mars_fact_table = df[0].to_html(index = False,header=False)\n",
    "\n",
    "#pprint(mars_fact_table)"
   ]
  },
  {
   "cell_type": "code",
   "execution_count": 80,
   "metadata": {},
   "outputs": [],
   "source": [
    "astro_url = 'https://astrogeology.usgs.gov/search/results?q=hemisphere+enhanced&k1=target&v1=Mars'\n",
    "browser.visit(astro_url)\n",
    "astro_html = browser.html\n",
    "astro_soup = BeautifulSoup(astro_html,\"html.parser\")\n",
    "#pprint(astro_soup)"
   ]
  },
  {
   "cell_type": "code",
   "execution_count": 81,
   "metadata": {},
   "outputs": [
    {
     "name": "stdout",
     "output_type": "stream",
     "text": [
      "{'img_url': 'https://astropedia.astrogeology.usgs.gov/download/Mars/Viking/cerberus_enhanced.tif/full.jpg',\n",
      " 'title': 'Cerberus Hemisphere Enhanced'}\n",
      "{'img_url': 'https://astropedia.astrogeology.usgs.gov/download/Mars/Viking/schiaparelli_enhanced.tif/full.jpg',\n",
      " 'title': 'Schiaparelli Hemisphere Enhanced'}\n",
      "{'img_url': 'https://astropedia.astrogeology.usgs.gov/download/Mars/Viking/syrtis_major_enhanced.tif/full.jpg',\n",
      " 'title': 'Syrtis Major Hemisphere Enhanced'}\n",
      "{'img_url': 'https://astropedia.astrogeology.usgs.gov/download/Mars/Viking/valles_marineris_enhanced.tif/full.jpg',\n",
      " 'title': 'Valles Marineris Hemisphere Enhanced'}\n"
     ]
    }
   ],
   "source": [
    "# get the mars image urls\n",
    "\n",
    "hemisphere_image_urls  = []\n",
    "try :\n",
    "    \n",
    "    base_url = \"https://astrogeology.usgs.gov\"\n",
    "    \n",
    "    # get the mars image items\n",
    "    mars_items = astro_soup.find_all(\"div\", \"item\")    \n",
    "\n",
    "    # iterate through the mars image list\n",
    "    for item in mars_items :\n",
    "        # get the title for image\n",
    "        #pprint(item)\n",
    "        title = item.find('h3').text\n",
    "        #url for the image \n",
    "        item_url =  item.find(\"a\")[\"href\"]\n",
    "        link_url = base_url + item_url\n",
    "\n",
    "        # open the page in the browser\n",
    "        browser.visit(link_url)\n",
    "        page_html = browser.html\n",
    "        page_soup = BeautifulSoup(page_html,\"html.parser\")\n",
    "        #pprint (page_soup)\n",
    "        image_item = page_soup.find('div', 'downloads')\n",
    "        #pprint(image_item)\n",
    "        image_url = image_item.find('a')['href']    \n",
    "        \n",
    "        mars_dict = { \"title\": title, \"img_url\": image_url}\n",
    "        pprint(mars_dict)\n",
    "        hemisphere_image_urls.append(mars_dict)\n",
    "\n",
    "except Exception as ex:\n",
    "    pprint(ex)\n",
    "    \n",
    "    "
   ]
  },
  {
   "cell_type": "code",
   "execution_count": 66,
   "metadata": {},
   "outputs": [],
   "source": [
    "browser.quit()"
   ]
  },
  {
   "cell_type": "code",
   "execution_count": 67,
   "metadata": {},
   "outputs": [],
   "source": [
    "# build the dictionary object\n",
    "mars_dict = {\n",
    "    'news_title' : news_title,\n",
    "    'news_p': news_p,\n",
    "    'featured_image_Title': featured_image_title,\n",
    "    'featured_image_url': featured_image_url,\n",
    "    'mars_fact_table': mars_fact_table,\n",
    "    'hemisphere_image_urls': hemisphere_image_urls\n",
    "    }"
   ]
  },
  {
   "cell_type": "code",
   "execution_count": 68,
   "metadata": {},
   "outputs": [
    {
     "data": {
      "text/plain": [
       "<pymongo.results.InsertOneResult at 0x220dff3f1c0>"
      ]
     },
     "execution_count": 68,
     "metadata": {},
     "output_type": "execute_result"
    }
   ],
   "source": [
    "client = pymongo.MongoClient('mongodb://localhost:27017')\n",
    "db = client.marsExpedition_db\n",
    "collection = db.mars \n",
    "collection.drop()\n",
    "\n",
    "#insert the dictionary the collection\n",
    "collection.insert_one(mars_dict)"
   ]
  },
  {
   "cell_type": "code",
   "execution_count": 69,
   "metadata": {},
   "outputs": [
    {
     "name": "stdout",
     "output_type": "stream",
     "text": [
      "{'_id': ObjectId('5f9b2a19244310a91e98c8ec'), 'news_title': \"NASA's Perseverance Rover Is Midway to Mars \", 'news_p': \"Sometimes half measures can be a good thing – especially on a journey this long. The agency's latest rover only has about 146 million miles left to reach its destination.\", 'featured_image_Title': '\\n\\t\\t\\t\\t  Dione Divided\\t\\t\\t\\t', 'featured_image_url': 'https://www.jpl.nasa.gov/spaceimages/images/mediumsize/PIA18358_ip.jpg', 'mars_fact_table': '<table border=\"1\" class=\"dataframe\">\\n  <tbody>\\n    <tr>\\n      <td>Equatorial Diameter:</td>\\n      <td>6,792 km</td>\\n    </tr>\\n    <tr>\\n      <td>Polar Diameter:</td>\\n      <td>6,752 km</td>\\n    </tr>\\n    <tr>\\n      <td>Mass:</td>\\n      <td>6.39 × 10^23 kg (0.11 Earths)</td>\\n    </tr>\\n    <tr>\\n      <td>Moons:</td>\\n      <td>2 (Phobos &amp; Deimos)</td>\\n    </tr>\\n    <tr>\\n      <td>Orbit Distance:</td>\\n      <td>227,943,824 km (1.38 AU)</td>\\n    </tr>\\n    <tr>\\n      <td>Orbit Period:</td>\\n      <td>687 days (1.9 years)</td>\\n    </tr>\\n    <tr>\\n      <td>Surface Temperature:</td>\\n      <td>-87 to -5 °C</td>\\n    </tr>\\n    <tr>\\n      <td>First Record:</td>\\n      <td>2nd millennium BC</td>\\n    </tr>\\n    <tr>\\n      <td>Recorded By:</td>\\n      <td>Egyptian astronomers</td>\\n    </tr>\\n  </tbody>\\n</table>', 'hemisphere_image_urls': [{'title': 'Cerberus Hemisphere Enhanced', 'img_url': 'https://astropedia.astrogeology.usgs.gov/download/Mars/Viking/cerberus_enhanced.tif/full.jpg'}, {'title': 'Schiaparelli Hemisphere Enhanced', 'img_url': 'https://astropedia.astrogeology.usgs.gov/download/Mars/Viking/schiaparelli_enhanced.tif/full.jpg'}, {'title': 'Syrtis Major Hemisphere Enhanced', 'img_url': 'https://astropedia.astrogeology.usgs.gov/download/Mars/Viking/syrtis_major_enhanced.tif/full.jpg'}, {'title': 'Valles Marineris Hemisphere Enhanced', 'img_url': 'https://astropedia.astrogeology.usgs.gov/download/Mars/Viking/valles_marineris_enhanced.tif/full.jpg'}]}\n"
     ]
    }
   ],
   "source": [
    "# read from mongo\n",
    "\n",
    "mars_data = collection.find()\n",
    "\n",
    "for data in mars_data :\n",
    "    print(data)"
   ]
  },
  {
   "cell_type": "code",
   "execution_count": null,
   "metadata": {},
   "outputs": [],
   "source": []
  }
 ],
 "metadata": {
  "kernelspec": {
   "display_name": "Python 3",
   "language": "python",
   "name": "python3"
  },
  "language_info": {
   "codemirror_mode": {
    "name": "ipython",
    "version": 3
   },
   "file_extension": ".py",
   "mimetype": "text/x-python",
   "name": "python",
   "nbconvert_exporter": "python",
   "pygments_lexer": "ipython3",
   "version": "3.8.5"
  }
 },
 "nbformat": 4,
 "nbformat_minor": 4
}

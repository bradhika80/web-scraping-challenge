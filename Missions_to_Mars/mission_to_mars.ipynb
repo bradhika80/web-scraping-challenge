{
 "cells": [
  {
   "cell_type": "code",
   "execution_count": 44,
   "metadata": {},
   "outputs": [],
   "source": [
    "from splinter import Browser\n",
    "from bs4 import BeautifulSoup\n",
    "import requests\n",
    "import pymongo\n",
    "from selenium import webdriver\n",
    "from pprint import pprint"
   ]
  },
  {
   "cell_type": "code",
   "execution_count": 67,
   "metadata": {},
   "outputs": [],
   "source": [
    "# Setup configuration variables to enable Splinter to interact with browser\n",
    "executable_path = {'executable_path': 'chromedriver.exe'}\n",
    "browser = Browser('chrome', **executable_path, headless=False)"
   ]
  },
  {
   "cell_type": "code",
   "execution_count": 46,
   "metadata": {},
   "outputs": [],
   "source": []
  },
  {
   "cell_type": "code",
   "execution_count": 80,
   "metadata": {},
   "outputs": [],
   "source": [
    "news_url =\"https://mars.nasa.gov/news/\"\n",
    "browser.visit(news_url)\n",
    "news_html = browser.html\n",
    "news_soup = BeautifulSoup(html, \"html.parser\")\n",
    "#pprint (news_soup)"
   ]
  },
  {
   "cell_type": "code",
   "execution_count": 79,
   "metadata": {},
   "outputs": [
    {
     "name": "stdout",
     "output_type": "stream",
     "text": [
      "\"NASA's Perseverance Rover Is Midway to Mars \"\n",
      "('Sometimes half measures can be a good thing – especially on a journey this '\n",
      " \"long. The agency's latest rover only has about 146 million miles left to \"\n",
      " 'reach its destination.')\n"
     ]
    }
   ],
   "source": [
    "# get the div with grid of news articles\n",
    "gridList = news_soup.find('div', class_='react_grid_list grid_list_container')\n",
    "\n",
    "# get the first title\n",
    "try :\n",
    "    news_title = gridList.find('div', class_='content_title').text\n",
    "    pprint(news_title)\n",
    "except :\n",
    "    news_title = None\n",
    "\n",
    "# get the first title description\n",
    "try :\n",
    "    news_p = gridList.find('div', class_='rollover_description_inner').text\n",
    "    pprint(news_p)\n",
    "except :\n",
    "    news_p = None\n"
   ]
  },
  {
   "cell_type": "code",
   "execution_count": 78,
   "metadata": {},
   "outputs": [],
   "source": [
    "jpl_url = 'https://www.jpl.nasa.gov/spaceimages'\n",
    "browser.visit(jpl_url)\n",
    "image_html = browser.html\n",
    "image_soup = BeautifulSoup(image_html,\"html.parser\")\n",
    "#pprint(image_soup)"
   ]
  },
  {
   "cell_type": "code",
   "execution_count": 77,
   "metadata": {},
   "outputs": [
    {
     "name": "stdout",
     "output_type": "stream",
     "text": [
      "'https://www.jpl.nasa.gov/spaceimages/images/mediumsize/PIA09320_ip.jpg'\n"
     ]
    }
   ],
   "source": [
    "# get the carousel_item\n",
    "\n",
    "carousel_item = image_soup.find(\"article\", \"carousel_item\")\n",
    "#pprint (carousel_item)\n",
    "\n",
    "try :\n",
    "    featured_imageTitle = image_soup.find(\"h1\", \"media_feature_title\")\n",
    "except :\n",
    "    featured_imageTitle = None\n",
    "\n",
    "try :\n",
    "    #get the footer a element of the article\n",
    "    footer_a_item = carousel_item.find(\"a\", \"button fancybox\")\n",
    "    #pprint(f\"Atag : {footer_a_item.attrs}\")\n",
    "    \n",
    "    # get the imageurl from \n",
    "    img_url = footer_a_item['data-fancybox-href']\n",
    "    \n",
    "    substring = \"/spaceimages\"\n",
    "    featured_image_url = jpl_url + img_url.replace(substring, '')\n",
    "    pprint (featured_image_url)\n",
    "    \n",
    "except Exception as ex:\n",
    "    pprint(ex)\n",
    "    featured_image_url = None\n",
    "\n",
    " \n"
   ]
  },
  {
   "cell_type": "code",
   "execution_count": null,
   "metadata": {},
   "outputs": [],
   "source": []
  }
 ],
 "metadata": {
  "kernelspec": {
   "display_name": "Python 3",
   "language": "python",
   "name": "python3"
  },
  "language_info": {
   "codemirror_mode": {
    "name": "ipython",
    "version": 3
   },
   "file_extension": ".py",
   "mimetype": "text/x-python",
   "name": "python",
   "nbconvert_exporter": "python",
   "pygments_lexer": "ipython3",
   "version": "3.8.5"
  }
 },
 "nbformat": 4,
 "nbformat_minor": 4
}

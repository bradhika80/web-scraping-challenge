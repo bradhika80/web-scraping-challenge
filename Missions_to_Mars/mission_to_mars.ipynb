{
 "cells": [
  {
   "cell_type": "code",
   "execution_count": 1,
   "metadata": {},
   "outputs": [],
   "source": [
    "from splinter import Browser\n",
    "from bs4 import BeautifulSoup\n",
    "import requests\n",
    "import pymongo\n",
    "from selenium import webdriver\n",
    "from pprint import pprint\n",
    "import pandas as pd"
   ]
  },
  {
   "cell_type": "code",
   "execution_count": 2,
   "metadata": {},
   "outputs": [],
   "source": [
    "# Setup configuration variables to enable Splinter to interact with browser\n",
    "executable_path = {'executable_path': 'chromedriver.exe'}\n",
    "browser = Browser('chrome', **executable_path, headless=False)"
   ]
  },
  {
   "cell_type": "code",
   "execution_count": 46,
   "metadata": {},
   "outputs": [],
   "source": []
  },
  {
   "cell_type": "code",
   "execution_count": 4,
   "metadata": {},
   "outputs": [],
   "source": [
    "news_url =\"https://mars.nasa.gov/news/\"\n",
    "browser.visit(news_url)\n",
    "news_html = browser.html\n",
    "news_soup = BeautifulSoup(news_html, \"html.parser\")\n",
    "#pprint (news_soup)"
   ]
  },
  {
   "cell_type": "code",
   "execution_count": 34,
   "metadata": {},
   "outputs": [
    {
     "name": "stdout",
     "output_type": "stream",
     "text": [
      "\"NASA's Perseverance Rover Is Midway to Mars \"\n",
      "('Sometimes half measures can be a good thing – especially on a journey this '\n",
      " \"long. The agency's latest rover only has about 146 million miles left to \"\n",
      " 'reach its destination.')\n"
     ]
    }
   ],
   "source": [
    "# get the div with grid of news articles\n",
    "gridList = news_soup.find('div', class_='react_grid_list grid_list_container')\n",
    "\n",
    "# get the first title\n",
    "try :\n",
    "    news_title = gridList.find('div', class_='content_title').text\n",
    "    pprint(news_title)\n",
    "except :\n",
    "    news_title = None\n",
    "\n",
    "# get the first title description\n",
    "try :\n",
    "    news_p = gridList.find('div', class_='rollover_description_inner').text\n",
    "    pprint(news_p)\n",
    "except :\n",
    "    news_p = None\n"
   ]
  },
  {
   "cell_type": "code",
   "execution_count": 6,
   "metadata": {},
   "outputs": [],
   "source": [
    "jpl_url = 'https://www.jpl.nasa.gov/spaceimages'\n",
    "browser.visit(jpl_url)\n",
    "image_html = browser.html\n",
    "image_soup = BeautifulSoup(image_html,\"html.parser\")\n",
    "#pprint(image_soup)"
   ]
  },
  {
   "cell_type": "code",
   "execution_count": 7,
   "metadata": {},
   "outputs": [
    {
     "name": "stdout",
     "output_type": "stream",
     "text": [
      "'https://www.jpl.nasa.gov/spaceimages/images/mediumsize/PIA17470_ip.jpg'\n"
     ]
    }
   ],
   "source": [
    "# get the carousel_item\n",
    "\n",
    "carousel_item = image_soup.find(\"article\", \"carousel_item\")\n",
    "#pprint (carousel_item)\n",
    "\n",
    "try :\n",
    "    featured_image_title, = image_soup.find(\"h1\", \"media_feature_title\")\n",
    "except :\n",
    "    featured_image_title = None\n",
    "\n",
    "try :\n",
    "    #get the footer a element of the article\n",
    "    footer_a_item = carousel_item.find(\"a\", \"button fancybox\")\n",
    "    #pprint(f\"Atag : {footer_a_item.attrs}\")\n",
    "    \n",
    "    # get the imageurl from \n",
    "    img_url = footer_a_item['data-fancybox-href']\n",
    "    \n",
    "    substring = \"/spaceimages\"\n",
    "    featured_image_url = jpl_url + img_url.replace(substring, '')\n",
    "    pprint (featured_image_url)\n",
    "    \n",
    "except Exception as ex:\n",
    "    pprint(ex)\n",
    "    featured_image_url = None\n",
    "\n",
    " \n"
   ]
  },
  {
   "cell_type": "code",
   "execution_count": 8,
   "metadata": {},
   "outputs": [],
   "source": [
    "space_url = 'https://space-facts.com/mars/'\n",
    "browser.visit(space_url)\n",
    "space_html = browser.html\n",
    "space_soup = BeautifulSoup(space_html,\"html.parser\")\n",
    "##pprint(space_soup)"
   ]
  },
  {
   "cell_type": "code",
   "execution_count": 27,
   "metadata": {},
   "outputs": [
    {
     "name": "stdout",
     "output_type": "stream",
     "text": [
      "Int64Index([0, 1], dtype='int64')\n",
      "                                               Mars\n",
      "Description                                        \n",
      "Equatorial Diameter:                       6,792 km\n",
      "Polar Diameter:                            6,752 km\n",
      "Mass:                 6.39 × 10^23 kg (0.11 Earths)\n",
      "Moons:                          2 (Phobos & Deimos)\n",
      "Orbit Distance:            227,943,824 km (1.38 AU)\n",
      "Orbit Period:                  687 days (1.9 years)\n",
      "Surface Temperature:                   -87 to -5 °C\n",
      "First Record:                     2nd millennium BC\n",
      "Recorded By:                   Egyptian astronomers\n",
      "('<table border=\"1\" class=\"dataframe table table-striped\">\\n'\n",
      " '  <thead>\\n'\n",
      " '    <tr style=\"text-align: right;\">\\n'\n",
      " '      <th></th>\\n'\n",
      " '      <th>Mars</th>\\n'\n",
      " '    </tr>\\n'\n",
      " '    <tr>\\n'\n",
      " '      <th>Description</th>\\n'\n",
      " '      <th></th>\\n'\n",
      " '    </tr>\\n'\n",
      " '  </thead>\\n'\n",
      " '  <tbody>\\n'\n",
      " '    <tr>\\n'\n",
      " '      <th>Equatorial Diameter:</th>\\n'\n",
      " '      <td>6,792 km</td>\\n'\n",
      " '    </tr>\\n'\n",
      " '    <tr>\\n'\n",
      " '      <th>Polar Diameter:</th>\\n'\n",
      " '      <td>6,752 km</td>\\n'\n",
      " '    </tr>\\n'\n",
      " '    <tr>\\n'\n",
      " '      <th>Mass:</th>\\n'\n",
      " '      <td>6.39 × 10^23 kg (0.11 Earths)</td>\\n'\n",
      " '    </tr>\\n'\n",
      " '    <tr>\\n'\n",
      " '      <th>Moons:</th>\\n'\n",
      " '      <td>2 (Phobos &amp; Deimos)</td>\\n'\n",
      " '    </tr>\\n'\n",
      " '    <tr>\\n'\n",
      " '      <th>Orbit Distance:</th>\\n'\n",
      " '      <td>227,943,824 km (1.38 AU)</td>\\n'\n",
      " '    </tr>\\n'\n",
      " '    <tr>\\n'\n",
      " '      <th>Orbit Period:</th>\\n'\n",
      " '      <td>687 days (1.9 years)</td>\\n'\n",
      " '    </tr>\\n'\n",
      " '    <tr>\\n'\n",
      " '      <th>Surface Temperature:</th>\\n'\n",
      " '      <td>-87 to -5 °C</td>\\n'\n",
      " '    </tr>\\n'\n",
      " '    <tr>\\n'\n",
      " '      <th>First Record:</th>\\n'\n",
      " '      <td>2nd millennium BC</td>\\n'\n",
      " '    </tr>\\n'\n",
      " '    <tr>\\n'\n",
      " '      <th>Recorded By:</th>\\n'\n",
      " '      <td>Egyptian astronomers</td>\\n'\n",
      " '    </tr>\\n'\n",
      " '  </tbody>\\n'\n",
      " '</table>')\n"
     ]
    }
   ],
   "source": [
    "#reference :- https://pythonprogramminglanguage.com/web-scraping-with-pandas-and-beautifulsoup/\n",
    "# get the table element from the page. \n",
    "table_item  = space_soup.find(\"table\", \"tablepress tablepress-id-p-mars\")\n",
    "\n",
    "df = pd.read_html(str(table_item))\n",
    "\n",
    "#print (df[0].columns)\n",
    "df = df[0].rename(columns = {0 : 'Description', 1 : 'Mars'})\n",
    "\n",
    "df = df.set_index('Description')\n",
    "#pprint (df)\n",
    "mars_fact_table = df.to_html( classes=\"table table-striped\")\n",
    "\n",
    "pprint(mars_fact_table)"
   ]
  },
  {
   "cell_type": "code",
   "execution_count": 10,
   "metadata": {},
   "outputs": [],
   "source": [
    "astro_url = 'https://astrogeology.usgs.gov/search/results?q=hemisphere+enhanced&k1=target&v1=Mars'\n",
    "browser.visit(astro_url)\n",
    "astro_html = browser.html\n",
    "astro_soup = BeautifulSoup(astro_html,\"html.parser\")\n",
    "#pprint(astro_soup)"
   ]
  },
  {
   "cell_type": "code",
   "execution_count": 11,
   "metadata": {},
   "outputs": [
    {
     "name": "stdout",
     "output_type": "stream",
     "text": [
      "{'img_url': 'https://astropedia.astrogeology.usgs.gov/download/Mars/Viking/cerberus_enhanced.tif/full.jpg',\n",
      " 'title': 'Cerberus Hemisphere Enhanced'}\n",
      "{'img_url': 'https://astropedia.astrogeology.usgs.gov/download/Mars/Viking/schiaparelli_enhanced.tif/full.jpg',\n",
      " 'title': 'Schiaparelli Hemisphere Enhanced'}\n",
      "{'img_url': 'https://astropedia.astrogeology.usgs.gov/download/Mars/Viking/syrtis_major_enhanced.tif/full.jpg',\n",
      " 'title': 'Syrtis Major Hemisphere Enhanced'}\n",
      "{'img_url': 'https://astropedia.astrogeology.usgs.gov/download/Mars/Viking/valles_marineris_enhanced.tif/full.jpg',\n",
      " 'title': 'Valles Marineris Hemisphere Enhanced'}\n"
     ]
    }
   ],
   "source": [
    "# get the mars image urls\n",
    "\n",
    "hemisphere_image_urls  = []\n",
    "try :\n",
    "    \n",
    "    base_url = \"https://astrogeology.usgs.gov\"\n",
    "    \n",
    "    # get the mars image items\n",
    "    mars_items = astro_soup.find_all(\"div\", \"item\")    \n",
    "\n",
    "    # iterate through the mars image list\n",
    "    for item in mars_items :\n",
    "        # get the title for image\n",
    "        #pprint(item)\n",
    "        title = item.find('h3').text\n",
    "        #url for the image \n",
    "        item_url =  item.find(\"a\")[\"href\"]\n",
    "        link_url = base_url + item_url\n",
    "\n",
    "        # open the page in the browser\n",
    "        browser.visit(link_url)\n",
    "        page_html = browser.html\n",
    "        page_soup = BeautifulSoup(page_html,\"html.parser\")\n",
    "        #pprint (page_soup)\n",
    "        image_item = page_soup.find('div', 'downloads')\n",
    "        #pprint(image_item)\n",
    "        image_url = image_item.find('a')['href']    \n",
    "        \n",
    "        mars_dict = { \"title\": title, \"img_url\": image_url}\n",
    "        pprint(mars_dict)\n",
    "        hemisphere_image_urls.append(mars_dict)\n",
    "\n",
    "except Exception as ex:\n",
    "    pprint(ex)\n",
    "    \n",
    "    "
   ]
  },
  {
   "cell_type": "code",
   "execution_count": 12,
   "metadata": {},
   "outputs": [],
   "source": [
    "browser.quit()"
   ]
  },
  {
   "cell_type": "code",
   "execution_count": 35,
   "metadata": {},
   "outputs": [
    {
     "name": "stdout",
     "output_type": "stream",
     "text": [
      "{'featured_image_Title': '\\n'\n",
      "                         \"\\t\\t\\t\\t  Titan's Northern Lakes: Salt \"\n",
      "                         'Flats?\\t\\t\\t\\t',\n",
      " 'featured_image_url': 'https://www.jpl.nasa.gov/spaceimages/images/mediumsize/PIA17470_ip.jpg',\n",
      " 'hemisphere_image_urls': [{'img_url': 'https://astropedia.astrogeology.usgs.gov/download/Mars/Viking/cerberus_enhanced.tif/full.jpg',\n",
      "                            'title': 'Cerberus Hemisphere Enhanced'},\n",
      "                           {'img_url': 'https://astropedia.astrogeology.usgs.gov/download/Mars/Viking/schiaparelli_enhanced.tif/full.jpg',\n",
      "                            'title': 'Schiaparelli Hemisphere Enhanced'},\n",
      "                           {'img_url': 'https://astropedia.astrogeology.usgs.gov/download/Mars/Viking/syrtis_major_enhanced.tif/full.jpg',\n",
      "                            'title': 'Syrtis Major Hemisphere Enhanced'},\n",
      "                           {'img_url': 'https://astropedia.astrogeology.usgs.gov/download/Mars/Viking/valles_marineris_enhanced.tif/full.jpg',\n",
      "                            'title': 'Valles Marineris Hemisphere Enhanced'}],\n",
      " 'mars_fact_table': '<table border=\"1\" class=\"dataframe table table-striped\">\\n'\n",
      "                    '  <thead>\\n'\n",
      "                    '    <tr style=\"text-align: right;\">\\n'\n",
      "                    '      <th></th>\\n'\n",
      "                    '      <th>Mars</th>\\n'\n",
      "                    '    </tr>\\n'\n",
      "                    '    <tr>\\n'\n",
      "                    '      <th>Description</th>\\n'\n",
      "                    '      <th></th>\\n'\n",
      "                    '    </tr>\\n'\n",
      "                    '  </thead>\\n'\n",
      "                    '  <tbody>\\n'\n",
      "                    '    <tr>\\n'\n",
      "                    '      <th>Equatorial Diameter:</th>\\n'\n",
      "                    '      <td>6,792 km</td>\\n'\n",
      "                    '    </tr>\\n'\n",
      "                    '    <tr>\\n'\n",
      "                    '      <th>Polar Diameter:</th>\\n'\n",
      "                    '      <td>6,752 km</td>\\n'\n",
      "                    '    </tr>\\n'\n",
      "                    '    <tr>\\n'\n",
      "                    '      <th>Mass:</th>\\n'\n",
      "                    '      <td>6.39 × 10^23 kg (0.11 Earths)</td>\\n'\n",
      "                    '    </tr>\\n'\n",
      "                    '    <tr>\\n'\n",
      "                    '      <th>Moons:</th>\\n'\n",
      "                    '      <td>2 (Phobos &amp; Deimos)</td>\\n'\n",
      "                    '    </tr>\\n'\n",
      "                    '    <tr>\\n'\n",
      "                    '      <th>Orbit Distance:</th>\\n'\n",
      "                    '      <td>227,943,824 km (1.38 AU)</td>\\n'\n",
      "                    '    </tr>\\n'\n",
      "                    '    <tr>\\n'\n",
      "                    '      <th>Orbit Period:</th>\\n'\n",
      "                    '      <td>687 days (1.9 years)</td>\\n'\n",
      "                    '    </tr>\\n'\n",
      "                    '    <tr>\\n'\n",
      "                    '      <th>Surface Temperature:</th>\\n'\n",
      "                    '      <td>-87 to -5 °C</td>\\n'\n",
      "                    '    </tr>\\n'\n",
      "                    '    <tr>\\n'\n",
      "                    '      <th>First Record:</th>\\n'\n",
      "                    '      <td>2nd millennium BC</td>\\n'\n",
      "                    '    </tr>\\n'\n",
      "                    '    <tr>\\n'\n",
      "                    '      <th>Recorded By:</th>\\n'\n",
      "                    '      <td>Egyptian astronomers</td>\\n'\n",
      "                    '    </tr>\\n'\n",
      "                    '  </tbody>\\n'\n",
      "                    '</table>',\n",
      " 'news_p': 'Sometimes half measures can be a good thing – especially on a '\n",
      "           \"journey this long. The agency's latest rover only has about 146 \"\n",
      "           'million miles left to reach its destination.',\n",
      " 'news_title': \"NASA's Perseverance Rover Is Midway to Mars \"}\n"
     ]
    }
   ],
   "source": [
    "# build the dictionary object\n",
    "mars_dict = {\n",
    "    'news_title' : news_title,\n",
    "    'news_p': news_p,\n",
    "    'featured_image_Title': featured_image_title,\n",
    "    'featured_image_url': featured_image_url,\n",
    "    'mars_fact_table': mars_fact_table,\n",
    "    'hemisphere_image_urls': hemisphere_image_urls\n",
    "    }\n",
    "pprint(mars_dict)"
   ]
  },
  {
   "cell_type": "code",
   "execution_count": 36,
   "metadata": {},
   "outputs": [
    {
     "data": {
      "text/plain": [
       "<pymongo.results.InsertOneResult at 0x24d62fbd0c0>"
      ]
     },
     "execution_count": 36,
     "metadata": {},
     "output_type": "execute_result"
    }
   ],
   "source": [
    "client = pymongo.MongoClient('mongodb://localhost:27017')\n",
    "db = client.marsExpedition_db\n",
    "collection = db.mars \n",
    "collection.drop()\n",
    "\n",
    "#insert the dictionary the collection\n",
    "collection.insert_one(mars_dict)"
   ]
  },
  {
   "cell_type": "code",
   "execution_count": 37,
   "metadata": {},
   "outputs": [
    {
     "name": "stdout",
     "output_type": "stream",
     "text": [
      "{'_id': ObjectId('5f9b834ff1e945b1c84bb7ba'), 'news_title': \"NASA's Perseverance Rover Is Midway to Mars \", 'news_p': \"Sometimes half measures can be a good thing – especially on a journey this long. The agency's latest rover only has about 146 million miles left to reach its destination.\", 'featured_image_Title': \"\\n\\t\\t\\t\\t  Titan's Northern Lakes: Salt Flats?\\t\\t\\t\\t\", 'featured_image_url': 'https://www.jpl.nasa.gov/spaceimages/images/mediumsize/PIA17470_ip.jpg', 'mars_fact_table': '<table border=\"1\" class=\"dataframe table table-striped\">\\n  <thead>\\n    <tr style=\"text-align: right;\">\\n      <th></th>\\n      <th>Mars</th>\\n    </tr>\\n    <tr>\\n      <th>Description</th>\\n      <th></th>\\n    </tr>\\n  </thead>\\n  <tbody>\\n    <tr>\\n      <th>Equatorial Diameter:</th>\\n      <td>6,792 km</td>\\n    </tr>\\n    <tr>\\n      <th>Polar Diameter:</th>\\n      <td>6,752 km</td>\\n    </tr>\\n    <tr>\\n      <th>Mass:</th>\\n      <td>6.39 × 10^23 kg (0.11 Earths)</td>\\n    </tr>\\n    <tr>\\n      <th>Moons:</th>\\n      <td>2 (Phobos &amp; Deimos)</td>\\n    </tr>\\n    <tr>\\n      <th>Orbit Distance:</th>\\n      <td>227,943,824 km (1.38 AU)</td>\\n    </tr>\\n    <tr>\\n      <th>Orbit Period:</th>\\n      <td>687 days (1.9 years)</td>\\n    </tr>\\n    <tr>\\n      <th>Surface Temperature:</th>\\n      <td>-87 to -5 °C</td>\\n    </tr>\\n    <tr>\\n      <th>First Record:</th>\\n      <td>2nd millennium BC</td>\\n    </tr>\\n    <tr>\\n      <th>Recorded By:</th>\\n      <td>Egyptian astronomers</td>\\n    </tr>\\n  </tbody>\\n</table>', 'hemisphere_image_urls': [{'title': 'Cerberus Hemisphere Enhanced', 'img_url': 'https://astropedia.astrogeology.usgs.gov/download/Mars/Viking/cerberus_enhanced.tif/full.jpg'}, {'title': 'Schiaparelli Hemisphere Enhanced', 'img_url': 'https://astropedia.astrogeology.usgs.gov/download/Mars/Viking/schiaparelli_enhanced.tif/full.jpg'}, {'title': 'Syrtis Major Hemisphere Enhanced', 'img_url': 'https://astropedia.astrogeology.usgs.gov/download/Mars/Viking/syrtis_major_enhanced.tif/full.jpg'}, {'title': 'Valles Marineris Hemisphere Enhanced', 'img_url': 'https://astropedia.astrogeology.usgs.gov/download/Mars/Viking/valles_marineris_enhanced.tif/full.jpg'}]}\n"
     ]
    }
   ],
   "source": [
    "# read from mongo\n",
    "\n",
    "mars_data = collection.find()\n",
    "\n",
    "for data in mars_data :\n",
    "    print(data)"
   ]
  },
  {
   "cell_type": "code",
   "execution_count": null,
   "metadata": {},
   "outputs": [],
   "source": []
  }
 ],
 "metadata": {
  "kernelspec": {
   "display_name": "Python 3",
   "language": "python",
   "name": "python3"
  },
  "language_info": {
   "codemirror_mode": {
    "name": "ipython",
    "version": 3
   },
   "file_extension": ".py",
   "mimetype": "text/x-python",
   "name": "python",
   "nbconvert_exporter": "python",
   "pygments_lexer": "ipython3",
   "version": "3.8.5"
  }
 },
 "nbformat": 4,
 "nbformat_minor": 4
}
